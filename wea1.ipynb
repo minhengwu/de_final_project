{
 "cells": [
  {
   "cell_type": "code",
   "execution_count": 2,
   "metadata": {},
   "outputs": [],
   "source": [
    "from pyspark.sql import SparkSession\n",
    "from pyspark.sql.functions import explode"
   ]
  },
  {
   "cell_type": "code",
   "execution_count": 3,
   "metadata": {
    "collapsed": true
   },
   "outputs": [],
   "source": [
    "spark = SparkSession(sc)"
   ]
  },
  {
   "cell_type": "code",
   "execution_count": 4,
   "metadata": {
    "collapsed": true
   },
   "outputs": [],
   "source": [
    "df = spark.read.json(\"s3a://finalprojectweather/2017/05/01/01/*\")"
   ]
  },
  {
   "cell_type": "code",
   "execution_count": 5,
   "metadata": {},
   "outputs": [
    {
     "name": "stdout",
     "output_type": "stream",
     "text": [
      "root\n",
      " |-- base: string (nullable = true)\n",
      " |-- clouds: struct (nullable = true)\n",
      " |    |-- all: long (nullable = true)\n",
      " |-- cod: long (nullable = true)\n",
      " |-- coord: struct (nullable = true)\n",
      " |    |-- lat: double (nullable = true)\n",
      " |    |-- lon: double (nullable = true)\n",
      " |-- dt: long (nullable = true)\n",
      " |-- id: long (nullable = true)\n",
      " |-- main: struct (nullable = true)\n",
      " |    |-- humidity: long (nullable = true)\n",
      " |    |-- pressure: long (nullable = true)\n",
      " |    |-- temp: double (nullable = true)\n",
      " |    |-- temp_max: double (nullable = true)\n",
      " |    |-- temp_min: double (nullable = true)\n",
      " |-- name: string (nullable = true)\n",
      " |-- sys: struct (nullable = true)\n",
      " |    |-- country: string (nullable = true)\n",
      " |    |-- id: long (nullable = true)\n",
      " |    |-- message: double (nullable = true)\n",
      " |    |-- sunrise: long (nullable = true)\n",
      " |    |-- sunset: long (nullable = true)\n",
      " |    |-- type: long (nullable = true)\n",
      " |-- visibility: long (nullable = true)\n",
      " |-- weather: array (nullable = true)\n",
      " |    |-- element: struct (containsNull = true)\n",
      " |    |    |-- description: string (nullable = true)\n",
      " |    |    |-- icon: string (nullable = true)\n",
      " |    |    |-- id: long (nullable = true)\n",
      " |    |    |-- main: string (nullable = true)\n",
      " |-- wind: struct (nullable = true)\n",
      " |    |-- deg: long (nullable = true)\n",
      " |    |-- speed: double (nullable = true)\n",
      "\n"
     ]
    }
   ],
   "source": [
    "df.printSchema()"
   ]
  },
  {
   "cell_type": "code",
   "execution_count": 6,
   "metadata": {
    "collapsed": true
   },
   "outputs": [],
   "source": [
    "main_table = df.select('id','name', 'base', 'sys.type', 'sys.country','coord.*').distinct()"
   ]
  },
  {
   "cell_type": "code",
   "execution_count": 8,
   "metadata": {},
   "outputs": [
    {
     "name": "stdout",
     "output_type": "stream",
     "text": [
      "+-------+-------------+--------+----+-------+-----+-------+\n",
      "|     id|         name|    base|type|country|  lat|    lon|\n",
      "+-------+-------------+--------+----+-------+-----+-------+\n",
      "|5391959|San Francisco|stations|   1|     US|37.77|-122.42|\n",
      "|5809844|      Seattle|stations|   1|     US|47.61|-122.33|\n",
      "+-------+-------------+--------+----+-------+-----+-------+\n",
      "\n"
     ]
    }
   ],
   "source": [
    "main_table.show()"
   ]
  },
  {
   "cell_type": "code",
   "execution_count": 9,
   "metadata": {
    "collapsed": true
   },
   "outputs": [],
   "source": [
    "second_table = df.selectExpr('id', 'sys.id as sys_id').distinct()"
   ]
  },
  {
   "cell_type": "code",
   "execution_count": 10,
   "metadata": {},
   "outputs": [
    {
     "name": "stdout",
     "output_type": "stream",
     "text": [
      "+-------+------+\n",
      "|     id|sys_id|\n",
      "+-------+------+\n",
      "|5809844|  2949|\n",
      "|5391959|   226|\n",
      "|5391959|  4250|\n",
      "+-------+------+\n",
      "\n"
     ]
    }
   ],
   "source": [
    "second_table.show()"
   ]
  },
  {
   "cell_type": "code",
   "execution_count": 11,
   "metadata": {
    "collapsed": true
   },
   "outputs": [],
   "source": [
    "third_table = df.select(explode(df.weather).alias('tmp'), 'id', 'sys', 'visibility', 'wind').selectExpr('id','tmp.description','tmp.icon','tmp.id as weather_id','tmp.main', 'sys.message','sys.sunrise','sys.sunset', 'visibility', 'wind.*').distinct()"
   ]
  },
  {
   "cell_type": "code",
   "execution_count": 12,
   "metadata": {},
   "outputs": [
    {
     "name": "stdout",
     "output_type": "stream",
     "text": [
      "+-------+----------------+----+----------+------+-------+----------+----------+----------+---+-----+\n",
      "|     id|     description|icon|weather_id|  main|message|   sunrise|    sunset|visibility|deg|speed|\n",
      "+-------+----------------+----+----------+------+-------+----------+----------+----------+---+-----+\n",
      "|5391959|   broken clouds| 04n|       803|Clouds| 0.0134|1493644408|1493694032|     10000|260|  3.1|\n",
      "|5809844|      light rain| 10n|       500|  Rain| 0.0054|1493643090|1493695326|     16093| 90|  2.6|\n",
      "|5809844|      light rain| 10n|       500|  Rain| 0.0056|1493643089|1493695327|     16093| 90|  2.6|\n",
      "|5809844|            mist| 50n|       701|  Mist|  0.225|1493643087|1493695328|     16093| 80|  3.1|\n",
      "|5391959|scattered clouds| 03n|       802|Clouds| 0.2632|1493644409|1493694031|     16093|150|  6.2|\n",
      "|5809844|      light rain| 10n|       500|  Rain| 0.7779|1493643089|1493695326|     16093| 90|  2.6|\n",
      "|5809844|   moderate rain| 10d|       501|  Rain| 2.2124|1493643093|1493695323|     16093| 70|  2.6|\n",
      "|5809844|      light rain| 10n|       500|  Rain|  0.225|1493643087|1493695328|     16093| 80|  3.1|\n",
      "|5809844|      light rain| 10n|       500|  Rain| 0.2252|1493643091|1493695325|     16093| 90|  2.6|\n",
      "|5391959|       clear sky| 01n|       800| Clear| 0.1816|1493644407|1493694033|     16093|150|  4.6|\n",
      "|5391959|   broken clouds| 04n|       803|Clouds| 0.0069|1493644407|1493694032|     10000|260|  3.1|\n",
      "|5391959|   broken clouds| 04n|       803|Clouds| 0.0678|1493644408|1493694032|     10000|260|  3.1|\n",
      "|5809844|      light rain| 10n|       500|  Rain|  0.005|1493643088|1493695327|     16093| 90|  2.6|\n",
      "|5809844|      light rain| 10n|       500|  Rain| 0.0079|1493643087|1493695328|     16093| 90|  2.6|\n",
      "|5391959|       clear sky| 01n|       800| Clear| 0.1737|1493644406|1493694033|     16093|150|  4.6|\n",
      "|5391959|   broken clouds| 04n|       803|Clouds| 0.0402|1493644408|1493694032|     10000|260|  3.1|\n",
      "|5391959|      light rain| 10n|       500|  Rain| 0.0088|1493644411|1493694029|     10000|280|  3.1|\n",
      "+-------+----------------+----+----------+------+-------+----------+----------+----------+---+-----+\n",
      "\n"
     ]
    }
   ],
   "source": [
    "third_table.show()"
   ]
  },
  {
   "cell_type": "code",
   "execution_count": null,
   "metadata": {
    "collapsed": true
   },
   "outputs": [],
   "source": [
    "# save data as parquet\n",
    "main_table.write.parquet(\"s3://hardoopmapreduce/project/table1\")\n",
    "second_table.write.parquet(\"s3://hardoopmapreduce/project/table2\")\n",
    "third_table.write.parquet(\"s3://hardoopmapreduce/project/table3\")"
   ]
  }
 ],
 "metadata": {
  "kernelspec": {
   "display_name": "Python 3",
   "language": "python",
   "name": "python3"
  },
  "language_info": {
   "codemirror_mode": {
    "name": "ipython",
    "version": 3
   },
   "file_extension": ".py",
   "mimetype": "text/x-python",
   "name": "python",
   "nbconvert_exporter": "python",
   "pygments_lexer": "ipython3",
   "version": "3.5.1"
  }
 },
 "nbformat": 4,
 "nbformat_minor": 2
}
